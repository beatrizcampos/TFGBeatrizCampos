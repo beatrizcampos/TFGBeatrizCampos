{
 "cells": [
  {
   "cell_type": "code",
   "execution_count": 13,
   "metadata": {},
   "outputs": [
    {
     "name": "stdout",
     "output_type": "stream",
     "text": [
      "Words spoken: ['apple', 'kiwi', 'lime', 'banana', 'pineapple', 'orange', 'peach']\n",
      "Number of files total: 105\n",
      "\n",
      "Matriz all_labels comienzo:  [0. 0. 0. 0. 0. 0. 0. 0. 0. 0. 0. 0. 0. 0. 0. 0. 0. 0. 0. 0. 0. 0. 0. 0.\n",
      " 0. 0. 0. 0. 0. 0. 0. 0. 0. 0. 0. 0. 0. 0. 0. 0. 0. 0. 0. 0. 0. 0. 0. 0.\n",
      " 0. 0. 0. 0. 0. 0. 0. 0. 0. 0. 0. 0. 0. 0. 0. 0. 0. 0. 0. 0. 0. 0. 0. 0.\n",
      " 0. 0. 0. 0. 0. 0. 0. 0. 0. 0. 0. 0. 0. 0. 0. 0. 0. 0. 0. 0. 0. 0. 0. 0.\n",
      " 0. 0. 0. 0. 0. 0. 0. 0. 0.]\n",
      "\n",
      "Matriz etiquetada :  [1. 1. 1. 1. 1. 1. 1. 1. 1. 1. 1. 1. 1. 1. 1. 0. 0. 0. 0. 0. 0. 0. 0. 0.\n",
      " 0. 0. 0. 0. 0. 0. 6. 6. 6. 6. 6. 6. 6. 6. 6. 6. 6. 6. 6. 6. 6. 5. 5. 5.\n",
      " 5. 5. 5. 5. 5. 5. 5. 5. 5. 5. 5. 5. 3. 3. 3. 3. 3. 3. 3. 3. 3. 3. 3. 3.\n",
      " 3. 3. 3. 4. 4. 4. 4. 4. 4. 4. 4. 4. 4. 4. 4. 4. 4. 4. 2. 2. 2. 2. 2. 2.\n",
      " 2. 2. 2. 2. 2. 2. 2. 2. 2.]\n",
      "(20, 14)\n",
      "Processed obs 0\n",
      "(20, 14)\n",
      "(20, 14)\n",
      "(20, 14)\n",
      "(20, 14)\n",
      "(20, 14)\n",
      "(20, 14)\n",
      "(20, 14)\n",
      "(20, 14)\n",
      "(20, 14)\n",
      "(20, 14)\n",
      "Processed obs 10\n",
      "(20, 14)\n",
      "(20, 14)\n",
      "(20, 14)\n",
      "(20, 14)\n",
      "(20, 14)\n",
      "(20, 14)\n",
      "(20, 14)\n",
      "(20, 14)\n",
      "(20, 14)\n",
      "(20, 14)\n",
      "Processed obs 20\n",
      "(20, 14)\n",
      "(20, 14)\n",
      "(20, 14)\n",
      "(20, 14)\n",
      "(20, 14)\n",
      "(20, 14)\n",
      "(20, 14)\n",
      "(20, 14)\n",
      "(20, 14)\n",
      "(20, 14)\n",
      "Processed obs 30\n",
      "(20, 14)\n",
      "(20, 14)\n",
      "(20, 14)\n",
      "(20, 14)\n",
      "(20, 14)\n",
      "(20, 14)\n",
      "(20, 14)\n",
      "(20, 14)\n",
      "(20, 14)\n",
      "(20, 14)\n",
      "Processed obs 40\n",
      "(20, 14)\n",
      "(20, 14)\n",
      "(20, 14)\n",
      "(20, 14)\n",
      "(20, 14)\n",
      "(20, 14)\n",
      "(20, 14)\n",
      "(20, 14)\n",
      "(20, 14)\n",
      "(20, 14)\n",
      "Processed obs 50\n",
      "(20, 14)\n",
      "(20, 14)\n",
      "(20, 14)\n",
      "(20, 14)\n",
      "(20, 14)\n",
      "(20, 14)\n",
      "(20, 14)\n",
      "(20, 14)\n",
      "(20, 14)\n",
      "(20, 14)\n",
      "Processed obs 60\n",
      "(20, 14)\n",
      "(20, 14)\n",
      "(20, 14)\n",
      "(20, 14)\n",
      "(20, 14)\n",
      "(20, 14)\n",
      "(20, 14)\n",
      "(20, 14)\n",
      "(20, 14)\n",
      "(20, 14)\n",
      "Processed obs 70\n",
      "(20, 14)\n",
      "(20, 14)\n",
      "(20, 14)\n",
      "(20, 14)\n",
      "(20, 14)\n",
      "(20, 14)\n",
      "(20, 14)\n",
      "(20, 14)\n",
      "(20, 14)\n",
      "(20, 14)\n",
      "Processed obs 80\n",
      "(20, 14)\n",
      "(20, 14)\n",
      "(20, 14)\n",
      "(20, 14)\n",
      "(20, 14)\n",
      "(20, 14)\n",
      "(20, 14)\n",
      "(20, 14)\n",
      "(20, 14)\n",
      "(20, 14)\n",
      "Processed obs 90\n",
      "(20, 14)\n",
      "(20, 14)\n",
      "(20, 14)\n",
      "(20, 14)\n",
      "(20, 14)\n",
      "(20, 14)\n",
      "(20, 14)\n",
      "(20, 14)\n",
      "(20, 14)\n",
      "(20, 14)\n",
      "Processed obs 100\n",
      "(20, 14)\n",
      "(20, 14)\n",
      "(20, 14)\n",
      "(20, 14)\n",
      "\n",
      "Matriz Resultante :  (105, 20, 14)\n",
      "\n"
     ]
    }
   ],
   "source": [
    "import numpy as np                 # Numpy: módulo fundamental de python para poder operar\n",
    "import matplotlib.pyplot as plt    # Para poder pintar gráficas\n",
    "%matplotlib inline\n",
    "import os\n",
    "import librosa \n",
    "import librosa.display\n",
    "import IPython.display\n",
    "\n",
    "\n",
    "fpaths = []       # fpaths:  'audio/apple/apple07.wav'  array path de carpeta 'audio'\n",
    "labels = []       # labels: array palabras repetidas (7 veces apple, 7 veces kiwi.. etc)\n",
    "spoken = []       # spoken: array palabras (no repetidas)\n",
    "all_obs = []\n",
    "\n",
    "for f in os.listdir(\"audio\"): \n",
    "    \n",
    "    if f not in \".DS_Store\":\n",
    "        for w in os.listdir(\"audio/\" + f):\n",
    "            fpaths.append(\"audio/\" + f + '/' + w)\n",
    "            labels.append(f)\n",
    "            if f not in spoken:\n",
    "                spoken.append(f)\n",
    "                \n",
    "print 'Words spoken:', spoken\n",
    "\n",
    "from scipy.io import wavfile\n",
    "\n",
    "data = np.zeros((len(fpaths), 32000))\n",
    "\n",
    "print 'Number of files total:', data.shape[0]\n",
    "\n",
    "all_labels = np.zeros(data.shape[0])     #Conseguimos una matriz de 105 elementos rellenados con 0 (np.zeros)\n",
    "print\n",
    "print 'Matriz all_labels comienzo: ', all_labels\n",
    "\n",
    "\n",
    "for n, l in enumerate(set(labels)):\n",
    "    all_labels[np.array([i for i, _ in enumerate(labels) if _ == l])] = n   \n",
    "\n",
    "print\n",
    "print 'Matriz etiquetada : ', all_labels\n",
    "\n",
    "\n",
    "maxsize = -1\n",
    "for n,file in enumerate(fpaths): \n",
    "    \n",
    "    x, fs = librosa.load(file, sr=8000)\n",
    "    data[n, :x.shape[0]] = x  \n",
    "    if x.shape[0] > maxsize:\n",
    "        maxsize = x.shape[0]\n",
    "        \n",
    "data = data[:, :maxsize]\n",
    "\n",
    "\n",
    "for n,file in enumerate(fpaths):  \n",
    "    \n",
    "    mfccs = librosa.feature.mfcc(data[n,:], sr=8000, n_mfcc=20)\n",
    "    print(mfccs.shape)  #Va cogiendo los 20 mfcc de cada audio\n",
    "    \n",
    "    all_obs.append(mfccs)    # Añadimos los mfcc\n",
    "   \n",
    "    if n % 10 == 0:\n",
    "        print(\"Processed obs %s\" % n)\n",
    "        #print obs\n",
    "    \n",
    "\n",
    "all_obs = np.atleast_3d(all_obs)\n",
    "\n",
    "\n",
    "print\n",
    "print 'Matriz Resultante : ', all_obs.shape\n",
    "\n",
    "print\n"
   ]
  },
  {
   "cell_type": "markdown",
   "metadata": {},
   "source": [
    "Dividimos la matriz en test y train: "
   ]
  },
  {
   "cell_type": "code",
   "execution_count": 61,
   "metadata": {},
   "outputs": [
    {
     "name": "stdout",
     "output_type": "stream",
     "text": [
      "('Size of training matrix:', (52, 20, 14))\n",
      "('Size of testing matrix:', (53, 20, 14))\n"
     ]
    }
   ],
   "source": [
    "from sklearn.model_selection import StratifiedShuffleSplit\n",
    "sss = StratifiedShuffleSplit(n_splits=5, test_size=0.5, random_state=0)\n",
    "\n",
    "\n",
    "for n,i in enumerate(all_obs):\n",
    "    all_obs[n] /= all_obs[n].sum(axis=0)\n",
    "\n",
    "for train_index, test_index in sss.split(all_obs, all_labels):\n",
    "    x_train, x_test = all_obs[train_index, ...], all_obs[test_index, ...]\n",
    "    y_train, y_test = all_labels[train_index], all_labels[test_index]\n",
    "print('Size of training matrix:', x_train.shape)\n",
    "\n",
    "print('Size of testing matrix:', x_test.shape)"
   ]
  },
  {
   "cell_type": "markdown",
   "metadata": {},
   "source": [
    "----------------------------------\n",
    "   REDES NEURONALES\n",
    "----------------------------------\n",
    "\n",
    "Utilizaremos Keras que es una librería de alto nivel, para que nos sea más fácil describir las capas de la red que creamos.\n",
    "En background, es decir, el motor que ejecutará la red neuronal y la entrenará será la implementación llamada Tensorflow, que es la mejor que existe hoy en día."
   ]
  },
  {
   "cell_type": "markdown",
   "metadata": {},
   "source": [
    "Utilizaremos numpy para el manejo de arrays. \n",
    "\n",
    "De Keras importamos el tipo de modelo Sequential y el tipo de capa Dense que es la «normal»."
   ]
  },
  {
   "cell_type": "code",
   "execution_count": 72,
   "metadata": {},
   "outputs": [],
   "source": [
    "# Normalizamos matriz: \n",
    "\n",
    "import tensorflow.keras as keras\n",
    "\n",
    "import tensorflow as tf\n",
    "\n",
    "import numpy\n",
    "\n",
    "\n",
    "\n",
    "# Fix random seed for reproducibility.\n",
    "# seed = 7\n",
    "# numpy.random.seed(seed)\n",
    "\n",
    "x_train = tf.keras.utils.normalize(x_train, axis=1)\n",
    "x_test = tf.keras.utils.normalize(x_test, axis=1)\n"
   ]
  },
  {
   "cell_type": "code",
   "execution_count": 73,
   "metadata": {},
   "outputs": [],
   "source": [
    "# * * * * * * * * * * * * * * * * * * * *\n",
    "#                                       \n",
    "#          MODELO SECUENCIAL \n",
    "#    (las cosas, secuencias van a ir \n",
    "#        en orden directo)\n",
    "#\n",
    "# * * * * * * * * * * * * * * * * * * * *\n",
    "\n",
    "\n",
    "# Primero creamos un modelo vació de tipo Sequential. \n",
    "# Este modelo se refiere a que crearemos una serie de capas de neuronas secuenciales, «una delante de otra».\n",
    "\n",
    "model = tf.keras.models.Sequential()\n",
    "\n",
    "# -------------\n",
    "\n",
    "\n",
    "## Ahora vamos a rellenar las capas de nuestra red neural.\n",
    "## Keras tiene un modulo para esto: flatten \n",
    "\n",
    "# Agregamos capas Dense con «model.add()». Realmente el numero de capas que tendremos serán, \n",
    "# estas que agregamos y la primera de Sequential\n",
    "\n",
    "# * * * * * * * * * * * * * * * * * * * *\n",
    "#                                       \n",
    "#         AGREGAMOS CAPAS\n",
    "#        A LA RED NEURONAL\n",
    "#\n",
    "# * * * * * * * * * * * * * * * * * * * *\n",
    "\n",
    "model.add(tf.keras.layers.Flatten()) #Flatten convierte la matriz en un simple array\n",
    "\n",
    "\n",
    "\n",
    "model.add(tf.keras.layers.Dense(128, activation=tf.nn.relu))    # Capa oculta (variar nº neuronas)\n",
    "\n",
    "model.add(tf.keras.layers.Dense(7, activation=tf.nn.softmax))   # Capa de salida \n",
    "\n",
    "# -------------\n",
    "\n",
    "# Antes de de entrenar la red haremos unos ajustes de nuestro modelo:\n",
    "\n",
    "model.compile(optimizer='adam',\n",
    "              loss='sparse_categorical_crossentropy',\n",
    "              metrics=['accuracy'])\n",
    "\n",
    "# Con esto indicamos el tipo de pérdida (loss) que utilizaremos, \n",
    "# el «optimizador» de los pesos de las conexiones de las neuronas y \n",
    "# las métricas que queremos obtener (accuracy en nuestro caso).\n",
    "\n",
    "# -------------\n",
    "# Ajustes al modelo, antes de entrenar la red neuronal.\n",
    "model.compile(optimizer='adam',\n",
    "              loss='sparse_categorical_crossentropy',\n",
    "              metrics=['accuracy'])\n"
   ]
  },
  {
   "cell_type": "code",
   "execution_count": 74,
   "metadata": {},
   "outputs": [
    {
     "name": "stdout",
     "output_type": "stream",
     "text": [
      "Train on 52 samples\n",
      "Epoch 1/8\n",
      "52/52 [==============================] - 0s 4ms/sample - loss: 1.9592 - accuracy: 0.1346\n",
      "Epoch 2/8\n",
      "52/52 [==============================] - 0s 285us/sample - loss: 1.8651 - accuracy: 0.1923\n",
      "Epoch 3/8\n",
      "52/52 [==============================] - 0s 270us/sample - loss: 1.7873 - accuracy: 0.6538\n",
      "Epoch 4/8\n",
      "52/52 [==============================] - 0s 218us/sample - loss: 1.7229 - accuracy: 0.8654\n",
      "Epoch 5/8\n",
      "52/52 [==============================] - 0s 164us/sample - loss: 1.6617 - accuracy: 0.8846\n",
      "Epoch 6/8\n",
      "52/52 [==============================] - 0s 187us/sample - loss: 1.6014 - accuracy: 0.8846\n",
      "Epoch 7/8\n",
      "52/52 [==============================] - 0s 207us/sample - loss: 1.5464 - accuracy: 0.9038\n",
      "Epoch 8/8\n",
      "52/52 [==============================] - 0s 221us/sample - loss: 1.4872 - accuracy: 0.9038\n",
      "53/53 [==============================] - 0s 1ms/sample - loss: 1.4600 - accuracy: 0.9245\n",
      "\n",
      "accuracy: 92.45%\n"
     ]
    }
   ],
   "source": [
    "# - - - - - - - - - - - - - - -  - \n",
    "# - Entrenamos a la red neuronal - \n",
    "# - - - - - - - - - - - - - - -  -\n",
    "\n",
    "history = model.fit(x_train, y_train, epochs=8)\n",
    "\n",
    "\n",
    "val_loss, val_acc = model.evaluate(x_test, y_test)\n",
    "#print(val_loss)\n",
    "#print(val_acc)\n",
    "#print(val_acc*100)\n",
    "\n",
    "\n",
    "    \n",
    "print(\"\\n%s: %.2f%%\" % (model.metrics_names[1], val_acc*100))\n"
   ]
  },
  {
   "cell_type": "code",
   "execution_count": 75,
   "metadata": {},
   "outputs": [
    {
     "name": "stdout",
     "output_type": "stream",
     "text": [
      "52/52 [==============================] - 0s 91us/sample - loss: 1.4401 - accuracy: 0.9423\n",
      "\n",
      "accuracy: 94.23%\n",
      "53/53 [==============================] - 0s 94us/sample - loss: 1.4600 - accuracy: 0.9245\n",
      "1.4599714639051906\n",
      "0.9245283\n",
      "92.45283007621765\n",
      "\n",
      "accuracy: 92.45%\n"
     ]
    }
   ],
   "source": [
    "# - - - - - - - - - - - - - - - - \n",
    "# - - - EVALUAMOS EL MODELO - - -\n",
    "# - - - - - - - - - - - - - - - -\n",
    "\n",
    "scores = model.evaluate(x_train, y_train)\n",
    "\n",
    "print(\"\\n%s: %.2f%%\" % (model.metrics_names[1], scores[1]*100))\n",
    "\n",
    "\n",
    "\n",
    "val_loss, val_acc = model.evaluate(x_test, y_test)\n",
    "print(val_loss)\n",
    "print(val_acc)\n",
    "print(val_acc*100)\n",
    "\n",
    "\n",
    "\n",
    "    \n",
    "print(\"\\n%s: %.2f%%\" % (model.metrics_names[1], val_acc*100))\n",
    "#print('Test accuracy:', val_acc*100)"
   ]
  },
  {
   "cell_type": "code",
   "execution_count": null,
   "metadata": {},
   "outputs": [],
   "source": []
  },
  {
   "cell_type": "code",
   "execution_count": null,
   "metadata": {},
   "outputs": [],
   "source": [
    " "
   ]
  },
  {
   "cell_type": "code",
   "execution_count": 76,
   "metadata": {},
   "outputs": [],
   "source": [
    "classes=[0,1,2,3,4,5,6]\n",
    "classes_test = ['apple', 'kiwi', 'lime','banana', 'pineapple', 'orange', 'peach']\n",
    "y_pred=model.predict_classes(x_test)\n",
    "con_mat = tf.math.confusion_matrix(labels=y_test, predictions=y_pred).numpy()"
   ]
  },
  {
   "cell_type": "code",
   "execution_count": 77,
   "metadata": {},
   "outputs": [],
   "source": [
    "import pandas as pd\n",
    "\n",
    "con_mat_norm = np.around(con_mat.astype('float') / con_mat.sum(axis=1)[:, np.newaxis], decimals=2)\n",
    " \n",
    "con_mat_df = pd.DataFrame(con_mat_norm,\n",
    "                     index = classes_test, \n",
    "                     columns = classes_test)\n",
    "\n"
   ]
  },
  {
   "cell_type": "code",
   "execution_count": 78,
   "metadata": {},
   "outputs": [
    {
     "data": {
      "image/png": "[encoded data removed]",
      "text/plain": [
       "<Figure size 576x576 with 2 Axes>"
      ]
     },
     "metadata": {},
     "output_type": "display_data"
    }
   ],
   "source": [
    "import seaborn as sns; sns.set()\n",
    "\n",
    "figure = plt.figure(figsize=(8, 8))\n",
    "sns.heatmap(con_mat_df, annot=True,cmap=plt.cm.Blues)\n",
    "plt.tight_layout()\n",
    "plt.ylabel('True label')\n",
    "plt.xlabel('Predicted label')\n",
    "plt.show()"
   ]
  },
  {
   "cell_type": "markdown",
   "metadata": {},
   "source": []
  },
  {
   "cell_type": "code",
   "execution_count": 79,
   "metadata": {},
   "outputs": [
    {
     "name": "stdout",
     "output_type": "stream",
     "text": [
      "Confusion Matrix :\n",
      "[[7 0 0 0 0 0 0]\n",
      " [0 4 0 2 0 2 0]\n",
      " [0 0 8 0 0 0 0]\n",
      " [0 0 0 7 0 0 0]\n",
      " [0 0 0 0 8 0 0]\n",
      " [0 0 0 0 0 7 0]\n",
      " [0 0 0 0 0 0 8]]\n",
      "Accuracy Score : 0.9245283018867925\n",
      "Report : \n",
      "              precision    recall  f1-score   support\n",
      "\n",
      "       apple       1.00      1.00      1.00         7\n",
      "        kiwi       1.00      0.50      0.67         8\n",
      "        lime       1.00      1.00      1.00         8\n",
      "      banana       0.78      1.00      0.88         7\n",
      "   pineapple       1.00      1.00      1.00         8\n",
      "      orange       0.78      1.00      0.88         7\n",
      "       peach       1.00      1.00      1.00         8\n",
      "\n",
      "   micro avg       0.92      0.92      0.92        53\n",
      "   macro avg       0.94      0.93      0.92        53\n",
      "weighted avg       0.94      0.92      0.92        53\n",
      "\n"
     ]
    }
   ],
   "source": [
    "# Python script for confusion matrix creation. \n",
    "\n",
    "from sklearn.metrics import confusion_matrix \n",
    "from sklearn.metrics import accuracy_score \n",
    "from sklearn.metrics import classification_report \n",
    "\n",
    "actual = y_test \n",
    "predicted = y_pred\n",
    "results = confusion_matrix(actual, predicted) \n",
    "\n",
    "print 'Confusion Matrix :'\n",
    "print(results) \n",
    "print 'Accuracy Score :',accuracy_score(actual, predicted) \n",
    "print 'Report : '\n",
    "print classification_report(actual, predicted, target_names= spoken) \n",
    "\n"
   ]
  },
  {
   "cell_type": "markdown",
   "metadata": {},
   "source": [
    "#### Representacion de Matriz de confusion para el modelo\n",
    "\n",
    "- Tasa de clasificacion/prediccion: Accuracy = (TP + TN) / (TP + TN + FP + FN)= 0.89\n",
    "\n",
    "- Recall : nos da una idea de cuándo es realmente sí, con qué frecuencia predice sí. Recuperación = TP / (TP + FN) = 0.89\n",
    "\n",
    "- Precision : nos dice cuándo predice sí, con qué frecuencia es correcta. Precisión = TP / (TP + FP) = 100 / (100 + 10) = 0.89"
   ]
  },
  {
   "cell_type": "code",
   "execution_count": 80,
   "metadata": {},
   "outputs": [
    {
     "data": {
      "text/plain": [
       "Text(0.5,0,'Predicted label')"
      ]
     },
     "execution_count": 80,
     "metadata": {},
     "output_type": "execute_result"
    },
    {
     "data": {
      "image/png": "[encoded data removed]",
      "text/plain": [
       "<Figure size 288x288 with 2 Axes>"
      ]
     },
     "metadata": {},
     "output_type": "display_data"
    }
   ],
   "source": [
    "\n",
    "from sklearn.metrics import confusion_matrix\n",
    "cm = confusion_matrix(actual, predicted)\n",
    "plt.matshow(cm, cmap='gray')\n",
    "ax = plt.gca()\n",
    "_ = ax.set_xticklabels([\" \"] + [l[:4] for l in spoken])\n",
    "_ = ax.set_yticklabels([\" \"] + spoken)\n",
    "#plt.title('Confusion matrix, single speaker')\n",
    "plt.colorbar()\n",
    "plt.ylabel('True label')\n",
    "plt.xlabel('Predicted label')"
   ]
  },
  {
   "cell_type": "code",
   "execution_count": null,
   "metadata": {},
   "outputs": [],
   "source": []
  },
  {
   "cell_type": "code",
   "execution_count": null,
   "metadata": {},
   "outputs": [],
   "source": []
  },
  {
   "cell_type": "code",
   "execution_count": null,
   "metadata": {},
   "outputs": [],
   "source": []
  },
  {
   "cell_type": "code",
   "execution_count": null,
   "metadata": {},
   "outputs": [],
   "source": []
  }
 ],
 "metadata": {
  "kernelspec": {
   "display_name": "Python 2",
   "language": "python",
   "name": "python2"
  },
  "language_info": {
   "codemirror_mode": {
    "name": "ipython",
    "version": 2
   },
   "file_extension": ".py",
   "mimetype": "text/x-python",
   "name": "python",
   "nbconvert_exporter": "python",
   "pygments_lexer": "ipython2",
   "version": "2.7.16"
  }
 },
 "nbformat": 4,
 "nbformat_minor": 2
}
