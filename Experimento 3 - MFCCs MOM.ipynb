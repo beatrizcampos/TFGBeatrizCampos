{
 "cells": [
  {
   "cell_type": "markdown",
   "metadata": {},
   "source": [
    "# EXPERIMENTO 3 - MFCC MOM\n"
   ]
  },
  {
   "cell_type": "markdown",
   "metadata": {},
   "source": [
    "Exploramos la carpeta audio para conseguir los archivos y a la vez, extraemos los coeficientes mfccs\n"
   ]
  },
  {
   "cell_type": "code",
   "execution_count": 162,
   "metadata": {
    "scrolled": true
   },
   "outputs": [
    {
     "name": "stdout",
     "output_type": "stream",
     "text": [
      "('Words spoken:', ['apple', 'kiwi', 'lime', 'banana', 'pineapple', 'orange', 'peach'])\n",
      "('Number of files total:', 105)\n",
      "\n",
      "('Matriz all_labels comienzo: ', array([0., 0., 0., 0., 0., 0., 0., 0., 0., 0., 0., 0., 0., 0., 0., 0., 0.,\n",
      "       0., 0., 0., 0., 0., 0., 0., 0., 0., 0., 0., 0., 0., 0., 0., 0., 0.,\n",
      "       0., 0., 0., 0., 0., 0., 0., 0., 0., 0., 0., 0., 0., 0., 0., 0., 0.,\n",
      "       0., 0., 0., 0., 0., 0., 0., 0., 0., 0., 0., 0., 0., 0., 0., 0., 0.,\n",
      "       0., 0., 0., 0., 0., 0., 0., 0., 0., 0., 0., 0., 0., 0., 0., 0., 0.,\n",
      "       0., 0., 0., 0., 0., 0., 0., 0., 0., 0., 0., 0., 0., 0., 0., 0., 0.,\n",
      "       0., 0., 0.]))\n",
      "('Matriz etiquetada : ', array([1., 1., 1., 1., 1., 1., 1., 1., 1., 1., 1., 1., 1., 1., 1., 0., 0.,\n",
      "       0., 0., 0., 0., 0., 0., 0., 0., 0., 0., 0., 0., 0., 6., 6., 6., 6.,\n",
      "       6., 6., 6., 6., 6., 6., 6., 6., 6., 6., 6., 5., 5., 5., 5., 5., 5.,\n",
      "       5., 5., 5., 5., 5., 5., 5., 5., 5., 3., 3., 3., 3., 3., 3., 3., 3.,\n",
      "       3., 3., 3., 3., 3., 3., 3., 4., 4., 4., 4., 4., 4., 4., 4., 4., 4.,\n",
      "       4., 4., 4., 4., 4., 2., 2., 2., 2., 2., 2., 2., 2., 2., 2., 2., 2.,\n",
      "       2., 2., 2.]))\n",
      "6966\n",
      "(20, 45)\n",
      "Processed obs 0\n",
      "(20, 45)\n",
      "(20, 45)\n",
      "(20, 45)\n",
      "(20, 45)\n",
      "(20, 45)\n",
      "(20, 45)\n",
      "(20, 45)\n",
      "(20, 45)\n",
      "(20, 45)\n",
      "(20, 45)\n",
      "Processed obs 10\n",
      "(20, 45)\n",
      "(20, 45)\n",
      "(20, 45)\n",
      "(20, 45)\n",
      "(20, 45)\n",
      "(20, 45)\n",
      "(20, 45)\n",
      "(20, 45)\n",
      "(20, 45)\n",
      "(20, 45)\n",
      "Processed obs 20\n",
      "(20, 45)\n",
      "(20, 45)\n",
      "(20, 45)\n",
      "(20, 45)\n",
      "(20, 45)\n",
      "(20, 45)\n",
      "(20, 45)\n",
      "(20, 45)\n",
      "(20, 45)\n",
      "(20, 45)\n",
      "Processed obs 30\n",
      "(20, 45)\n",
      "(20, 45)\n",
      "(20, 45)\n",
      "(20, 45)\n",
      "(20, 45)\n",
      "(20, 45)\n",
      "(20, 45)\n",
      "(20, 45)\n",
      "(20, 45)\n",
      "(20, 45)\n",
      "Processed obs 40\n",
      "(20, 45)\n",
      "(20, 45)\n",
      "(20, 45)\n",
      "(20, 45)\n",
      "(20, 45)\n",
      "(20, 45)\n",
      "(20, 45)\n",
      "(20, 45)\n",
      "(20, 45)\n",
      "(20, 45)\n",
      "Processed obs 50\n",
      "(20, 45)\n",
      "(20, 45)\n",
      "(20, 45)\n",
      "(20, 45)\n",
      "(20, 45)\n",
      "(20, 45)\n",
      "(20, 45)\n",
      "(20, 45)\n",
      "(20, 45)\n",
      "(20, 45)\n",
      "Processed obs 60\n",
      "(20, 45)\n",
      "(20, 45)\n",
      "(20, 45)\n",
      "(20, 45)\n",
      "(20, 45)\n",
      "(20, 45)\n",
      "(20, 45)\n",
      "(20, 45)\n",
      "(20, 45)\n",
      "(20, 45)\n",
      "Processed obs 70\n",
      "(20, 45)\n",
      "(20, 45)\n",
      "(20, 45)\n",
      "(20, 45)\n",
      "(20, 45)\n",
      "(20, 45)\n",
      "(20, 45)\n",
      "(20, 45)\n",
      "(20, 45)\n",
      "(20, 45)\n",
      "Processed obs 80\n",
      "(20, 45)\n",
      "(20, 45)\n",
      "(20, 45)\n",
      "(20, 45)\n",
      "(20, 45)\n",
      "(20, 45)\n",
      "(20, 45)\n",
      "(20, 45)\n",
      "(20, 45)\n",
      "(20, 45)\n",
      "Processed obs 90\n",
      "(20, 45)\n",
      "(20, 45)\n",
      "(20, 45)\n",
      "(20, 45)\n",
      "(20, 45)\n",
      "(20, 45)\n",
      "(20, 45)\n",
      "(20, 45)\n",
      "(20, 45)\n",
      "(20, 45)\n",
      "Processed obs 100\n",
      "(20, 45)\n",
      "(20, 45)\n",
      "(20, 45)\n",
      "(20, 45)\n",
      "\n",
      "Matriz Resultante : (105, 20, 45)\n",
      "\n",
      "(105, 20, 45)\n"
     ]
    }
   ],
   "source": [
    "import numpy as np                 # Numpy: módulo fundamental de python para poder operar\n",
    "import matplotlib.pyplot as plt    # Para poder pintar gráficas\n",
    "%matplotlib inline\n",
    "import os\n",
    "import librosa \n",
    "import librosa.display\n",
    "import IPython.display\n",
    "\n",
    "\n",
    "fpaths = []       # fpaths:  'audio/apple/apple07.wav'  array path de carpeta 'audio'\n",
    "labels = []       # labels: array palabras repetidas (7 veces apple, 7 veces kiwi.. etc)\n",
    "spoken = []       # spoken: array palabras (no repetidas)\n",
    "all_obs = []\n",
    "\n",
    "for f in os.listdir(\"audio\"):  # os.listdir: nos permite buscar en una ruta determinada\n",
    "                               #   (nosotros buscamos f que seria las palabras habladas)\n",
    "    if f not in \".DS_Store\":\n",
    "        for w in os.listdir(\"audio/\" + f):\n",
    "            fpaths.append(\"audio/\" + f + '/' + w)\n",
    "            labels.append(f)\n",
    "            if f not in spoken:\n",
    "                spoken.append(f)\n",
    "                \n",
    "print ('Words spoken:', spoken)\n",
    "\n",
    "from scipy.io import wavfile\n",
    "\n",
    "data = np.zeros((len(fpaths), 32000)) # np.zeros: devuelve una nueva matriz rellena con ceros de una longitud len(fpaths)\n",
    "\n",
    "# Cada archivo es una fila en datos y tiene una entrada de etiquetas\n",
    "print ('Number of files total:', data.shape[0])\n",
    "\n",
    "all_labels = np.zeros(data.shape[0])     #Conseguimos una matriz de 105 elementos rellenados con 0 (np.zeros)\n",
    "print\n",
    "print ('Matriz all_labels comienzo: ', all_labels)\n",
    "\n",
    "\n",
    "for n, l in enumerate(set(labels)):\n",
    "    all_labels[np.array([i for i, _ in enumerate(labels) if _ == l])] = n   \n",
    "\n",
    "\n",
    "print ('Matriz etiquetada : ', all_labels)\n",
    "\n",
    "\n",
    "maxsize = -1\n",
    "all_obs = []\n",
    "\n",
    "for n,file in enumerate(fpaths):    # Con enumerate vamos a enumerar la cantidad de path que hay fpaths \n",
    "                            # (conseguimos asi los 105 archivos)\n",
    "   # fs, d = wavfile.read(file)     # Asi leíamos los audios en los experimentos anteriores\n",
    "    x, fs = librosa.load(file, sr=8000)\n",
    "    data[n, :x.shape[0]] = x  \n",
    "    #print(x.shape[0])\n",
    "    if x.shape[0] > maxsize:\n",
    "        maxsize = x.shape[0]\n",
    "        \n",
    "data = data[:, :maxsize]\n",
    "print(maxsize)\n",
    "        \n",
    "for n,file in enumerate(fpaths):    # Con enumerate vamos a enumerar la cantidad de path que hay fpaths \n",
    "    n_dim = 20 #numero de mfccs\n",
    "    n_cases = len(fpaths)#numero de ejemplos\n",
    "    s=librosa.feature.melspectrogram(data[n,:], sr=fs, n_fft=1024, hop_length=156)\n",
    "    mfccs = np.zeros((n_dim, n_cases))      \n",
    "    mfccs = librosa.feature.mfcc(data[n,:], sr=fs, S=s, n_mfcc=n_dim)\n",
    "    print(mfccs.shape)  #Va cogiendo los 20 mfcc de cada audio\n",
    "    \n",
    "    all_obs.append(mfccs)    # Añadimos los mfcc\n",
    "   \n",
    "    if n % 10 == 0:\n",
    "        print(\"Processed obs %s\" % n)\n",
    "\n",
    "               \n",
    "all_obs = np.atleast_3d(all_obs)\n",
    "print\n",
    "print \"Matriz Resultante :\" , all_obs.shape\n",
    "print\n",
    "print(all_obs.shape)"
   ]
  },
  {
   "cell_type": "code",
   "execution_count": 163,
   "metadata": {},
   "outputs": [
    {
     "data": {
      "text/plain": [
       "[<matplotlib.lines.Line2D at 0x7f871d25a850>]"
      ]
     },
     "execution_count": 163,
     "metadata": {},
     "output_type": "execute_result"
    },
    {
     "data": {
      "image/png": "[encoded data removed]",
      "text/plain": [
       "<Figure size 432x288 with 1 Axes>"
      ]
     },
     "metadata": {
      "needs_background": "light"
     },
     "output_type": "display_data"
    }
   ],
   "source": [
    "plt.plot(data[0, :], color='orange')"
   ]
  },
  {
   "cell_type": "markdown",
   "metadata": {},
   "source": [
    "MODELOS OCULTOS DE MARKOV"
   ]
  },
  {
   "cell_type": "code",
   "execution_count": 164,
   "metadata": {},
   "outputs": [
    {
     "name": "stdout",
     "output_type": "stream",
     "text": [
      "Likelihoods for test set 1\n",
      "('M1:', 221.38828575112734)\n",
      "('M2:', 165.27280230776483)\n",
      "Prediction for test set 1\n",
      "('Model', 1)\n",
      "()\n",
      "Likelihoods for test set 2\n",
      "('M1:', 33.19459421485196)\n",
      "('M2:', 59.15274753052989)\n",
      "Prediction for test set 2\n",
      "('Model', 2)\n"
     ]
    }
   ],
   "source": [
    "import scipy.stats as st\n",
    "import numpy as np\n",
    "\n",
    "class gmmhmm:\n",
    "    #This class converted with modifications from https://code.google.com/p/hmm-speech-recognition/source/browse/Word.m\n",
    "    def __init__(self, n_states):\n",
    "        self.n_states = n_states\n",
    "        self.random_state = np.random.RandomState(0)\n",
    "        \n",
    "        #Normalize random initial state\n",
    "        self.prior = self._normalize(self.random_state.rand(self.n_states, 1))\n",
    "        self.A = self._stochasticize(self.random_state.rand(self.n_states, self.n_states))\n",
    "        self.mu = None\n",
    "        self.covs = None\n",
    "        self.n_dims = None\n",
    "           \n",
    "    def _forward(self, B):\n",
    "        log_likelihood = 0.\n",
    "        T = B.shape[1]\n",
    "        alpha = np.zeros(B.shape)\n",
    "        for t in range(T):\n",
    "            if t == 0:\n",
    "                alpha[:, t] = B[:, t] * self.prior.ravel()\n",
    "            else:\n",
    "                alpha[:, t] = B[:, t] * np.dot(self.A.T, alpha[:, t - 1])\n",
    "         \n",
    "            alpha_sum = np.sum(alpha[:, t])\n",
    "            alpha[:, t] /= alpha_sum\n",
    "            log_likelihood = log_likelihood + np.log(alpha_sum)\n",
    "        return log_likelihood, alpha\n",
    "    \n",
    "    def _backward(self, B):\n",
    "        T = B.shape[1]\n",
    "        beta = np.zeros(B.shape);\n",
    "           \n",
    "        beta[:, -1] = np.ones(B.shape[0])\n",
    "            \n",
    "        for t in range(T - 1)[::-1]:\n",
    "            beta[:, t] = np.dot(self.A, (B[:, t + 1] * beta[:, t + 1]))\n",
    "            beta[:, t] /= np.sum(beta[:, t])\n",
    "        return beta\n",
    "        \n",
    "    \n",
    "    def _state_likelihood(self, obs):\n",
    "        obs = np.atleast_2d(obs)\n",
    "        B = np.zeros((self.n_states, obs.shape[1]))\n",
    "        for s in range(self.n_states):\n",
    "            #Needs scipy 0.14\n",
    "            np.random.seed(self.random_state.randint(1))\n",
    "            B[s, :] = st.multivariate_normal.pdf(\n",
    "                obs.T, mean=self.mu[:, s].T, cov=self.covs[:, :, s].T)\n",
    "            #This function can (and will!) return values >> 1\n",
    "            #See the discussion here for the equivalent matlab function\n",
    "            #https://groups.google.com/forum/#!topic/comp.soft-sys.matlab/YksWK0T74Ak\n",
    "            #Key line: \"Probabilities have to be less than 1,\n",
    "            #Densities can be anything, even infinite (at individual points).\"\n",
    "            #This is evaluating the density at individual points...\n",
    "        return B\n",
    "    \n",
    "    def _normalize(self, x):\n",
    "        return (x + (x == 0)) / np.sum(x)\n",
    "    \n",
    "    def _stochasticize(self, x):\n",
    "        return (x + (x == 0)) / np.sum(x, axis=1)\n",
    "    \n",
    "    def _em_init(self, obs):\n",
    "        #Using this _em_init function allows for less required constructor args\n",
    "        if self.n_dims is None:\n",
    "            self.n_dims = obs.shape[0]\n",
    "        if self.mu is None:\n",
    "            subset = self.random_state.choice(np.arange(self.n_dims), size=self.n_states, replace=False)\n",
    "            self.mu = obs[:, subset]\n",
    "        if self.covs is None:\n",
    "            self.covs = np.zeros((self.n_dims, self.n_dims, self.n_states))\n",
    "            self.covs += np.diag(np.diag(np.cov(obs)))[:, :, None]\n",
    "        return self\n",
    "    \n",
    "    def _em_step(self, obs): \n",
    "        obs = np.atleast_2d(obs)\n",
    "        B = self._state_likelihood(obs)\n",
    "        T = obs.shape[1]\n",
    "        \n",
    "        log_likelihood, alpha = self._forward(B)\n",
    "        beta = self._backward(B)\n",
    "        \n",
    "        xi_sum = np.zeros((self.n_states, self.n_states))\n",
    "        gamma = np.zeros((self.n_states, T))\n",
    "        \n",
    "        for t in range(T - 1):\n",
    "            partial_sum = self.A * np.dot(alpha[:, t], (beta[:, t] * B[:, t + 1]).T)\n",
    "            xi_sum += self._normalize(partial_sum)\n",
    "            partial_g = alpha[:, t] * beta[:, t]\n",
    "            gamma[:, t] = self._normalize(partial_g)\n",
    "              \n",
    "        partial_g = alpha[:, -1] * beta[:, -1]\n",
    "        gamma[:, -1] = self._normalize(partial_g)\n",
    "        \n",
    "        expected_prior = gamma[:, 0]\n",
    "        expected_A = self._stochasticize(xi_sum)\n",
    "        \n",
    "        expected_mu = np.zeros((self.n_dims, self.n_states))\n",
    "        expected_covs = np.zeros((self.n_dims, self.n_dims, self.n_states))\n",
    "        \n",
    "        gamma_state_sum = np.sum(gamma, axis=1)\n",
    "        #Set zeros to 1 before dividing\n",
    "        gamma_state_sum = gamma_state_sum + (gamma_state_sum == 0)\n",
    "        \n",
    "        for s in range(self.n_states):\n",
    "            gamma_obs = obs * gamma[s, :]\n",
    "            expected_mu[:, s] = np.sum(gamma_obs, axis=1) / gamma_state_sum[s]\n",
    "            partial_covs = np.dot(gamma_obs, obs.T) / gamma_state_sum[s] - np.dot(expected_mu[:, s], expected_mu[:, s].T)\n",
    "            #Symmetrize\n",
    "            partial_covs = np.triu(partial_covs) + np.triu(partial_covs).T - np.diag(partial_covs)\n",
    "        \n",
    "        #Ensure positive semidefinite by adding diagonal loading\n",
    "        expected_covs += .01 * np.eye(self.n_dims)[:, :, None]\n",
    "        \n",
    "        self.prior = expected_prior\n",
    "        self.mu = expected_mu\n",
    "        self.covs = expected_covs\n",
    "        self.A = expected_A\n",
    "        return log_likelihood\n",
    "    \n",
    "    def fit(self, obs, n_iter=15):\n",
    "        #Support for 2D and 3D arrays\n",
    "        #2D should be n_features, n_dims\n",
    "        #3D should be n_examples, n_features, n_dims\n",
    "        #For example, with 6 features per speech segment, 105 different words\n",
    "        #this array should be size\n",
    "        #(105, 6, X) where X is the number of frames with features extracted\n",
    "        #For a single example file, the array should be size (6, X)\n",
    "        if len(obs.shape) == 2:\n",
    "            for i in range(n_iter):\n",
    "                self._em_init(obs)\n",
    "                log_likelihood = self._em_step(obs)\n",
    "        elif len(obs.shape) == 3:\n",
    "            count = obs.shape[0]\n",
    "            for n in range(count):\n",
    "                for i in range(n_iter):\n",
    "                    self._em_init(obs[n, :, :])\n",
    "                    log_likelihood = self._em_step(obs[n, :, :])\n",
    "        return self\n",
    "    \n",
    "    def transform(self, obs):\n",
    "        #Support for 2D and 3D arrays\n",
    "        #2D should be n_features, n_dims\n",
    "        #3D should be n_examples, n_features, n_dims\n",
    "        #For example, with 6 features per speech segment, 105 different words\n",
    "        #this array should be size\n",
    "        #(105, 6, X) where X is the number of frames with features extracted\n",
    "        #For a single example file, the array should be size (6, X)\n",
    "        if len(obs.shape) == 2:\n",
    "            B = self._state_likelihood(obs)\n",
    "            log_likelihood, _ = self._forward(B)\n",
    "            return log_likelihood\n",
    "        elif len(obs.shape) == 3:\n",
    "            count = obs.shape[0]\n",
    "            out = np.zeros((count,))\n",
    "            for n in range(count):\n",
    "                B = self._state_likelihood(obs[n, :, :])\n",
    "                log_likelihood, _ = self._forward(B)\n",
    "                out[n] = log_likelihood\n",
    "            return out\n",
    "\n",
    "if __name__ == \"__main__\":\n",
    "    rstate = np.random.RandomState(0)\n",
    "    t1 = np.ones((4, 40)) + .001 * rstate.rand(4, 40)\n",
    "    t1 /= t1.sum(axis=0)\n",
    "    t2 = rstate.rand(*t1.shape)\n",
    "    t2 /= t2.sum(axis=0)\n",
    "    m1 = gmmhmm(2)\n",
    "    m1.fit(t1)\n",
    "    m2 = gmmhmm(2)\n",
    "    m2.fit(t2)\n",
    "    \n",
    "    m1t1 = m1.transform(t1)\n",
    "    m2t1 = m2.transform(t1)\n",
    "    print(\"Likelihoods for test set 1\")\n",
    "    print(\"M1:\", m1t1)\n",
    "    print(\"M2:\", m2t1)\n",
    "    print(\"Prediction for test set 1\")\n",
    "    print(\"Model\", np.argmax([m1t1, m2t1]) + 1)\n",
    "    print()\n",
    "    \n",
    "    m1t2 = m1.transform(t2)\n",
    "    m2t2 = m2.transform(t2)\n",
    "    print(\"Likelihoods for test set 2\")\n",
    "    print(\"M1:\", m1t2)\n",
    "    print(\"M2:\", m2t2)\n",
    "    print(\"Prediction for test set 2\")\n",
    "    print(\"Model\", np.argmax([m1t2, m2t2]) + 1)"
   ]
  },
  {
   "cell_type": "markdown",
   "metadata": {},
   "source": [
    "DIVIDIMOS LA MATRIZ EN TESTG Y TRAINING : "
   ]
  },
  {
   "cell_type": "code",
   "execution_count": 155,
   "metadata": {},
   "outputs": [
    {
     "name": "stdout",
     "output_type": "stream",
     "text": [
      "('Size of training matrix:', (52, 20, 45))\n",
      "('Size of testing matrix:', (53, 20, 45))\n",
      "\n",
      "[1. 3. 1. 6. 0. 2. 4. 0. 2. 0. 6. 1. 0. 3. 2. 1. 1. 2. 5. 6. 1. 6. 4. 4.\n",
      " 5. 0. 3. 3. 3. 2. 0. 4. 0. 1. 3. 0. 5. 4. 2. 3. 6. 5. 4. 6. 4. 5. 6. 2.\n",
      " 5. 5. 3. 5.]\n",
      "[1. 4. 3. 5. 4. 2. 1. 6. 3. 0. 4. 6. 1. 3. 2. 2. 3. 5. 3. 6. 4. 2. 4. 5.\n",
      " 0. 2. 5. 3. 1. 1. 0. 2. 6. 4. 5. 0. 1. 2. 2. 3. 4. 6. 5. 6. 6. 0. 4. 6.\n",
      " 5. 0. 1. 1. 0.]\n",
      "45\n"
     ]
    }
   ],
   "source": [
    "from sklearn.model_selection import StratifiedShuffleSplit\n",
    "sss = StratifiedShuffleSplit(n_splits=5, test_size=0.5, random_state=0)\n",
    "\n",
    "for train_index, test_index in sss.split(all_obs, all_labels):\n",
    "    X_train, X_test = all_obs[train_index, ...], all_obs[test_index, ...]\n",
    "    y_train, y_test = all_labels[train_index], all_labels[test_index]\n",
    "\n",
    "print('Size of training matrix:', X_train.shape)\n",
    "\n",
    "print('Size of testing matrix:', X_test.shape)\n",
    "print\n",
    "#X_train = abs(X_train) \n",
    "#X_test = abs(X_test)\n",
    "print(y_train)\n",
    "print(y_test)\n",
    "print(X_train.shape[2])\n"
   ]
  },
  {
   "cell_type": "code",
   "execution_count": 171,
   "metadata": {},
   "outputs": [],
   "source": [
    "from sklearn.preprocessing import StandardScaler\n",
    "# Estandariza características eliminando la media y escalando la varianza a la unidad\n",
    "scaler = StandardScaler()\n",
    "for k in range(X_train.shape[2]):  \n",
    "    X_train[:,:,k] = scaler.fit_transform(X_train[:,:,k])\n",
    "    X_test[:,:,k] = scaler.transform(X_test[:,:,k])"
   ]
  },
  {
   "cell_type": "code",
   "execution_count": 172,
   "metadata": {},
   "outputs": [],
   "source": [
    "from sklearn.preprocessing import MinMaxScaler\n",
    "scaler = MinMaxScaler()\n",
    "for k in range(X_train.shape[2]):  \n",
    "    X_train[:,:,k] = scaler.fit_transform(X_train[:,:,k])\n",
    "    X_test[:,:,k] = scaler.transform(X_test[:,:,k])"
   ]
  },
  {
   "cell_type": "code",
   "execution_count": 173,
   "metadata": {},
   "outputs": [
    {
     "name": "stdout",
     "output_type": "stream",
     "text": [
      "[0.01472877 0.01573544 0.51286839 0.86998599 0.97832777 0.9078483\n",
      " 0.63558508 0.29336167 0.19357963 0.28924634 0.2691013  0.21725773\n",
      " 0.4328927  0.76216729 0.90957341 0.87823229 0.66974528 0.13392896\n",
      " 0.02126294 0.01721643]\n"
     ]
    },
    {
     "data": {
      "image/png": "[encoded data removed]",
      "text/plain": [
       "<Figure size 432x288 with 1 Axes>"
      ]
     },
     "metadata": {
      "needs_background": "light"
     },
     "output_type": "display_data"
    }
   ],
   "source": [
    "plt.figure()\n",
    "plt.plot(X_train[51,:,10])\n",
    "print(X_train[51,:,10])\n",
    "\n",
    "\n"
   ]
  },
  {
   "cell_type": "markdown",
   "metadata": {},
   "source": [
    "ENTRENAMOS EL MODELO : "
   ]
  },
  {
   "cell_type": "code",
   "execution_count": 174,
   "metadata": {},
   "outputs": [
    {
     "name": "stdout",
     "output_type": "stream",
     "text": [
      "set([0.0, 1.0, 2.0, 3.0, 4.0, 5.0, 6.0])\n"
     ]
    },
    {
     "name": "stderr",
     "output_type": "stream",
     "text": [
      "/Users/beatrizcamposleon/opt/anaconda2/lib/python2.7/site-packages/ipykernel_launcher.py:28: RuntimeWarning: invalid value encountered in divide\n",
      "/Users/beatrizcamposleon/opt/anaconda2/lib/python2.7/site-packages/ipykernel_launcher.py:29: RuntimeWarning: divide by zero encountered in log\n"
     ]
    },
    {
     "name": "stdout",
     "output_type": "stream",
     "text": [
      "[0 0 2 3 0 2 0 6 6 0 0 6 0 6 2 2 3 3 3 6 1 2 6 5 0 2 3 3 1 2 0 2 6 1 3 0 0\n",
      " 2 2 3 0 6 2 6 6 0 1 6 5 0 0 0 0]\n",
      "[1. 4. 3. 5. 4. 2. 1. 6. 3. 0. 4. 6. 1. 3. 2. 2. 3. 5. 3. 6. 4. 2. 4. 5.\n",
      " 0. 2. 5. 3. 1. 1. 0. 2. 6. 4. 5. 0. 1. 2. 2. 3. 4. 6. 5. 6. 6. 0. 4. 6.\n",
      " 5. 0. 1. 1. 0.]\n",
      "Test accuracy: 56.60 percent\n"
     ]
    }
   ],
   "source": [
    "ys = set(all_labels)\n",
    "print(ys)\n",
    "ms = [gmmhmm(6) for y in ys]\n",
    "_ = [m.fit(X_train[y_train == y, :, :]) for m, y in zip(ms, ys)]\n",
    "ps = [m.transform(X_test) for m in ms]\n",
    "#print(ps)\n",
    "res = np.vstack(ps)\n",
    "predicted_labels = np.argmax(res, axis=0)\n",
    "missed = (predicted_labels != y_test)\n",
    "print(predicted_labels)\n",
    "print(y_test)\n",
    "print('Test accuracy: %.2f percent' % (100 * (1 - np.mean(missed))))"
   ]
  },
  {
   "cell_type": "markdown",
   "metadata": {},
   "source": [
    "MATRIZ DE CONFUSIÓN : "
   ]
  },
  {
   "cell_type": "code",
   "execution_count": 175,
   "metadata": {},
   "outputs": [
    {
     "name": "stdout",
     "output_type": "stream",
     "text": [
      "set([0.0, 1.0, 2.0, 3.0, 4.0, 5.0, 6.0])\n"
     ]
    }
   ],
   "source": [
    "print(ys)"
   ]
  },
  {
   "cell_type": "code",
   "execution_count": 176,
   "metadata": {},
   "outputs": [
    {
     "data": {
      "text/plain": [
       "Text(0.5,0,'Predicted label')"
      ]
     },
     "execution_count": 176,
     "metadata": {},
     "output_type": "execute_result"
    },
    {
     "data": {
      "image/png": "[encoded data removed]",
      "text/plain": [
       "<Figure size 288x288 with 2 Axes>"
      ]
     },
     "metadata": {
      "needs_background": "light"
     },
     "output_type": "display_data"
    }
   ],
   "source": [
    "# ------------\n",
    "# Matriz de Confusión\n",
    "# ------------\n",
    "\n",
    "from sklearn.metrics import confusion_matrix\n",
    "cm = confusion_matrix(y_test, predicted_labels)\n",
    "plt.matshow(cm, cmap='gray')\n",
    "ax = plt.gca()\n",
    "_ = ax.set_xticklabels([\" \"] + [l[:2] for l in spoken])\n",
    "_ = ax.set_yticklabels([\" \"] + spoken)\n",
    "#plt.title('Confusion matrix, single speaker')\n",
    "plt.colorbar()\n",
    "plt.ylabel('True label')\n",
    "plt.xlabel('Predicted label')\n",
    "\n",
    "\n"
   ]
  },
  {
   "cell_type": "markdown",
   "metadata": {},
   "source": [
    "OTRA FORMA DE PINTAR LA MATRIZ DE CONFUSIÓN : "
   ]
  },
  {
   "cell_type": "code",
   "execution_count": 177,
   "metadata": {},
   "outputs": [
    {
     "name": "stdout",
     "output_type": "stream",
     "text": [
      "Confusion Matrix :\n",
      "[[7 0 0 0 0 0 0]\n",
      " [6 1 1 0 0 0 0]\n",
      " [0 0 8 0 0 0 0]\n",
      " [0 0 1 4 0 0 2]\n",
      " [4 3 0 0 0 0 1]\n",
      " [0 0 1 4 0 2 0]\n",
      " [0 0 0 0 0 0 8]]\n",
      "Accuracy Score : 56.60377358490566\n",
      "Report : \n",
      "              precision    recall  f1-score   support\n",
      "\n",
      "       apple       0.41      1.00      0.58         7\n",
      "        kiwi       0.25      0.12      0.17         8\n",
      "        lime       0.73      1.00      0.84         8\n",
      "      banana       0.50      0.57      0.53         7\n",
      "   pineapple       0.00      0.00      0.00         8\n",
      "      orange       1.00      0.29      0.44         7\n",
      "       peach       0.73      1.00      0.84         8\n",
      "\n",
      "   micro avg       0.57      0.57      0.57        53\n",
      "   macro avg       0.52      0.57      0.49        53\n",
      "weighted avg       0.51      0.57      0.49        53\n",
      "\n"
     ]
    }
   ],
   "source": [
    "# Python script for confusion matrix creation. \n",
    "\n",
    "from sklearn.metrics import confusion_matrix \n",
    "from sklearn.metrics import accuracy_score \n",
    "from sklearn.metrics import classification_report \n",
    "actual = y_test \n",
    "predicted = predicted_labels\n",
    "results = confusion_matrix(actual, predicted) \n",
    "print 'Confusion Matrix :'\n",
    "print(results) \n",
    "print 'Accuracy Score :',accuracy_score(actual, predicted)*100 \n",
    "print 'Report : '\n",
    "print classification_report(actual, predicted, target_names= spoken) \n",
    "\n"
   ]
  },
  {
   "cell_type": "markdown",
   "metadata": {},
   "source": [
    "### EJEMPLO CÁLCULO COEFICIENTES MFCCS PARA UN AUDIO EN CONCRETO : "
   ]
  },
  {
   "cell_type": "code",
   "execution_count": 108,
   "metadata": {},
   "outputs": [
    {
     "data": {
      "text/plain": [
       "<matplotlib.collections.PolyCollection at 0x7f872fd88e90>"
      ]
     },
     "execution_count": 108,
     "metadata": {},
     "output_type": "execute_result"
    },
    {
     "data": {
      "image/png": "[encoded data removed]",
      "text/plain": [
       "<Figure size 432x288 with 1 Axes>"
      ]
     },
     "metadata": {
      "needs_background": "light"
     },
     "output_type": "display_data"
    }
   ],
   "source": [
    "import librosa \n",
    "import librosa.display\n",
    "import IPython.display\n",
    "\n",
    "\n",
    "x, fs = librosa.load('peach01.wav')\n",
    "librosa.display.waveplot(x, sr=fs)"
   ]
  },
  {
   "cell_type": "code",
   "execution_count": 220,
   "metadata": {},
   "outputs": [
    {
     "data": {
      "text/html": [
       "\n",
       "                <audio controls=\"controls\" >\n",
       "                    <source src=\"data:audio/wav;base64,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\" type=\"audio/wav\" />\n",
       "                    Your browser does not support the audio element.\n",
       "                </audio>\n",
       "              "
      ],
      "text/plain": [
       "<IPython.lib.display.Audio object>"
      ]
     },
     "execution_count": 220,
     "metadata": {},
     "output_type": "execute_result"
    }
   ],
   "source": [
    "IPython.display.Audio(x, rate=fs)"
   ]
  },
  {
   "cell_type": "code",
   "execution_count": 221,
   "metadata": {
    "scrolled": true
   },
   "outputs": [
    {
     "name": "stdout",
     "output_type": "stream",
     "text": [
      "(20, 27)\n"
     ]
    },
    {
     "data": {
      "text/plain": [
       "<matplotlib.colorbar.Colorbar at 0x7f9e53a39810>"
      ]
     },
     "execution_count": 221,
     "metadata": {},
     "output_type": "execute_result"
    },
    {
     "data": {
      "image/png": "[encoded data removed]",
      "text/plain": [
       "<Figure size 432x288 with 2 Axes>"
      ]
     },
     "metadata": {
      "needs_background": "light"
     },
     "output_type": "display_data"
    }
   ],
   "source": [
    "\n",
    "mfccs = librosa.feature.mfcc(x, sr=fs, n_mfcc=20)\n",
    "print(mfccs.shape)\n",
    "\n",
    "\n",
    "#print mfccs.shape # resultado: (20, 19) -> \"0 ceoficientes cada 19 frames\"\n",
    "\n",
    "######\n",
    "# ------\n",
    "#     Display \n",
    "# Coeficcientes MFCC\n",
    "# ------\n",
    "\n",
    "librosa.display.specshow(mfccs, sr=fs, x_axis='time')\n",
    "plt.title('MFCC')\n",
    "plt.colorbar()\n"
   ]
  },
  {
   "cell_type": "code",
   "execution_count": 222,
   "metadata": {},
   "outputs": [
    {
     "name": "stdout",
     "output_type": "stream",
     "text": [
      "[-8.24443394e-16 -1.64477485e-17  6.25014443e-16 -7.62764337e-16\n",
      " -9.21073917e-16  6.82581563e-16  7.96687819e-18  2.44660259e-16\n",
      "  1.21713339e-15  5.34551827e-17 -1.68589422e-16 -6.57909941e-17\n",
      "  1.93261045e-16  3.37178845e-16 -1.02387234e-15 -1.72701359e-16\n",
      "  1.23358114e-16  3.57738530e-16  0.00000000e+00  1.31581988e-16]\n",
      "[1. 1. 1. 1. 1. 1. 1. 1. 1. 1. 1. 1. 1. 1. 1. 1. 1. 1. 1. 1.]\n"
     ]
    },
    {
     "data": {
      "text/plain": [
       "<matplotlib.colorbar.Colorbar at 0x7f9e53efbe90>"
      ]
     },
     "execution_count": 222,
     "metadata": {},
     "output_type": "execute_result"
    },
    {
     "data": {
      "image/png": "[encoded data removed]",
      "text/plain": [
       "<Figure size 432x288 with 2 Axes>"
      ]
     },
     "metadata": {
      "needs_background": "light"
     },
     "output_type": "display_data"
    }
   ],
   "source": [
    "import sklearn\n",
    "\n",
    "# \"Normalizamos\" coeficientes MFCC \n",
    "# Escalamos los coeficientes MFCC de modo que cada dimensión de coeficiente tenga media cero y\n",
    "# varianza unitaria:\n",
    "\n",
    "mfccs = sklearn.preprocessing.scale(mfccs, axis=1)\n",
    "librosa.display.specshow(mfccs, sr=fs, x_axis='time')\n",
    "print mfccs.mean(axis=1)\n",
    "print mfccs.var(axis=1)\n",
    "plt.title('MFCC')\n",
    "plt.colorbar()\n"
   ]
  },
  {
   "cell_type": "code",
   "execution_count": 13,
   "metadata": {},
   "outputs": [
    {
     "name": "stdout",
     "output_type": "stream",
     "text": [
      "(20, 30)\n"
     ]
    },
    {
     "data": {
      "image/png": "[encoded data removed]",
      "text/plain": [
       "<Figure size 432x288 with 1 Axes>"
      ]
     },
     "metadata": {
      "needs_background": "light"
     },
     "output_type": "display_data"
    },
    {
     "data": {
      "text/plain": [
       "<Figure size 432x288 with 0 Axes>"
      ]
     },
     "metadata": {},
     "output_type": "display_data"
    }
   ],
   "source": [
    "\n",
    "plt.imshow(mfccs.T, origin='lower', aspect='auto', interpolation='nearest')\n",
    "plt.ylabel('MFCC Coefficient Index')\n",
    "plt.xlabel('Frame Index')\n",
    "plt.figure()\n",
    "\n",
    "print (mfccs.shape)  # Obtenemos 20 coeficientes MFFC \n",
    "                \n",
    "\n",
    "    # Este es un ejemplo leyendo una señal de audio, \n",
    "    # ahora tenemos que estrapolarlo a toda nuestra base de audios. De manera que el tamaño de la matriz sea: \n",
    "    # Size of training matrix: (105, 20, frames)"
   ]
  },
  {
   "cell_type": "code",
   "execution_count": null,
   "metadata": {},
   "outputs": [],
   "source": []
  }
 ],
 "metadata": {
  "kernelspec": {
   "display_name": "Python 2",
   "language": "python",
   "name": "python2"
  },
  "language_info": {
   "codemirror_mode": {
    "name": "ipython",
    "version": 2
   },
   "file_extension": ".py",
   "mimetype": "text/x-python",
   "name": "python",
   "nbconvert_exporter": "python",
   "pygments_lexer": "ipython2",
   "version": "2.7.16"
  }
 },
 "nbformat": 4,
 "nbformat_minor": 2
}
